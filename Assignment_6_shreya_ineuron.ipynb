{
 "cells": [
  {
   "cell_type": "markdown",
   "id": "fe5d2566",
   "metadata": {},
   "source": [
    "**1. What are escape characters, and how do you use them?**\n",
    "\n",
    "The escape character is a special character in python strings also known as **the backslash ( \\ )**. It is used in representing certain whitespace characters: \"\\n\" is a new line , \"\\t\" is a tab and \"\\r\" is a carriage return. Conversely, prefixing a special character with \" \\ \" turns it into an ordinary character. \n"
   ]
  },
  {
   "cell_type": "markdown",
   "id": "ad70f7e7",
   "metadata": {},
   "source": [
    "**2. What do the escape characters n and t stand for?**\n",
    "\n",
    "\\n stands for new line and \\t stands for tab"
   ]
  },
  {
   "cell_type": "markdown",
   "id": "1afab354",
   "metadata": {},
   "source": [
    "**3. What is the way to include backslash characters in a string?**\n",
    "\n",
    "To include backslash characters in a string , one has to use the \\ \\ esape character."
   ]
  },
  {
   "cell_type": "markdown",
   "id": "f7f39509",
   "metadata": {},
   "source": [
    "**4. The string \"Howl's Moving Castle\" is a correct value. Why isn't the single quote character in the word Howl's not escaped a problem?**\n",
    "\n",
    "Because double quotes has been used to mark the beginning and end of the string"
   ]
  },
  {
   "cell_type": "markdown",
   "id": "e4581dab",
   "metadata": {},
   "source": [
    "**5. How do you write a string of newlines if you don't want to use the n character?**\n",
    "\n",
    "By using multiline strings one can avoid the use of n character to write a string of newlines."
   ]
  },
  {
   "cell_type": "code",
   "execution_count": 4,
   "id": "fc8b180d",
   "metadata": {},
   "outputs": [
    {
     "name": "stdout",
     "output_type": "stream",
     "text": [
      "This is my sixth python assignment\n",
      "It involves questions related to basic python\n"
     ]
    }
   ],
   "source": [
    "#example:-\n",
    "\n",
    "x = '''This is my sixth python assignment\n",
    "It involves questions related to basic python'''\n",
    "print(x)"
   ]
  },
  {
   "cell_type": "markdown",
   "id": "c718010d",
   "metadata": {},
   "source": [
    "**6. What are the values of the given expressions?**\n",
    "\n",
    "'Hello, world!'[1] - 'e' <br>\n",
    "'Hello, world!'[0:5] - 'Hello' <br>\n",
    "'Hello, world!'[:5] - 'Hello' <br>\n",
    "'Hello, world!'[3:] - 'lo, world!' <br>\n"
   ]
  },
  {
   "cell_type": "markdown",
   "id": "576ee9f3",
   "metadata": {},
   "source": [
    "**7. What are the values of the following expressions?**\n",
    "\n",
    "'Hello'.upper() - 'HELLO' <br>\n",
    "'Hello'.upper().isupper() - True <br>\n",
    "'Hello'.upper().lower() - 'hello' <br>"
   ]
  },
  {
   "cell_type": "markdown",
   "id": "c4e376ea",
   "metadata": {},
   "source": [
    "**8. What are the values of the following expressions?**\n",
    "\n",
    "'Remember, remember, the fifth of July.'.split() - ['Remember,', 'remember,', 'the', 'fifth', 'of', 'July.'] <br>\n",
    "\n",
    "'-'.join('There can only one.'.split()) - 'There-can-only-one.' <br>\n"
   ]
  },
  {
   "cell_type": "markdown",
   "id": "fa0e60fe",
   "metadata": {},
   "source": [
    "**9. What are the methods for right-justifying, left-justifying, and centering a string?**\n",
    "\n",
    "right-justifying - rjust ( ) <br>\n",
    "left-justifying - ljust ( ) <br>\n",
    "centering - center ( )"
   ]
  },
  {
   "cell_type": "markdown",
   "id": "b390b429",
   "metadata": {},
   "source": [
    "**10. What is the best way to remove whitespace characters from the start or end?**\n",
    "\n",
    "The strip ( ) method is an inbuilt function in python to remove whitespace characters from start or end of a string. lstrip ( ) will remove whitespace characters from left end and rstrip ( ) will remove the whitespace characters from right end."
   ]
  }
 ],
 "metadata": {
  "kernelspec": {
   "display_name": "Python 3 (ipykernel)",
   "language": "python",
   "name": "python3"
  },
  "language_info": {
   "codemirror_mode": {
    "name": "ipython",
    "version": 3
   },
   "file_extension": ".py",
   "mimetype": "text/x-python",
   "name": "python",
   "nbconvert_exporter": "python",
   "pygments_lexer": "ipython3",
   "version": "3.9.7"
  }
 },
 "nbformat": 4,
 "nbformat_minor": 5
}
